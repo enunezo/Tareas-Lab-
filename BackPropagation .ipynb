{
 "cells": [
  {
   "cell_type": "code",
   "execution_count": null,
   "metadata": {},
   "outputs": [],
   "source": [
    "#Importando librerias\n",
    "import numpy as np\n",
    "from sklearn.svm import SVC\n",
    "import numpy as np\n",
    "from scipy import optimize\n",
    "import pandas as pd"
   ]
  },
  {
   "cell_type": "code",
   "execution_count": null,
   "metadata": {},
   "outputs": [],
   "source": [
    "#Reading data\n",
    "X = np.array(pd.read_csv('x.csv',sep=',',header=None))\n",
    "Y = np.array(pd.read_csv('y.csv',sep=',',header=None))\n",
    "theta1 = np.array(pd.read_csv('theta1.csv',sep=',',header=None))\n",
    "theta2 = np.array(pd.read_csv('theta2.csv',sep=',',header=None))\n",
    "\n",
    "print(\"X \", X.shape)\n",
    "print(\"Y \", Y.shape)\n",
    "print(\"theta1 \", theta1.shape)\n",
    "print(\"theta2 \", theta2.shape)"
   ]
  },
  {
   "cell_type": "code",
   "execution_count": null,
   "metadata": {},
   "outputs": [],
   "source": [
    "def sigmoid(z):\n",
    "    return 1.0 / (1+np.exp(-z))"
   ]
  },
  {
   "cell_type": "code",
   "execution_count": null,
   "metadata": {},
   "outputs": [],
   "source": [
    "def sigmoidGradient(z):\n",
    "    gz = sigmoid(z)\n",
    "    return gz * (1-gz);"
   ]
  },
  {
   "cell_type": "code",
   "execution_count": null,
   "metadata": {},
   "outputs": [],
   "source": [
    "def forward(X,theta1,theta2) :\n",
    "    Xbias = np.c_[np.ones((X.shape[0],1)),X]\n",
    "    z1 = np.dot(Xbias,theta1.T)\n",
    "    a1 = sigmoid(z1)\n",
    "    \n",
    "    a1bias = np.c_[np.ones((a1.shape[0],1)),a1]\n",
    "    z2 = np.dot(a1bias,theta2.T)\n",
    "    a2 = sigmoid(z2)\n",
    "    \n",
    "    return np.argmax(a2,axis=1).T\n",
    "res = forward(X, theta1, theta2)\n",
    "print (res.shape)"
   ]
  },
  {
   "cell_type": "code",
   "execution_count": null,
   "metadata": {},
   "outputs": [],
   "source": [
    "# res: Forward Result,\n",
    "# Y: Expected Result\n",
    "def getPresicion(res, Y):\n",
    "    contador = 0\n",
    "    for i in range(res.shape[0]) :\n",
    "        if ((res[i]+1) == Y[i,0]):\n",
    "            contador +=1\n",
    "    \n",
    "    print((contador*100.0)/res.shape[0])"
   ]
  },
  {
   "cell_type": "code",
   "execution_count": null,
   "metadata": {},
   "outputs": [],
   "source": [
    "#Update cost and Gradient\n",
    "def compute_gradient_reg(theta1, theta2, X, y):\n",
    "    m = X.shape[0]\n",
    "    a1 = np.c_[np.ones((m,1)),X]\n",
    "    z2 = np.dot(a1,theta1.T)\n",
    "    a2 = np.c_[np.ones((z2.shape[0],1)),sigmoid(z2)]\n",
    "    \n",
    "    z3 = np.dot(a2,theta2.T)\n",
    "    a3 = sigmoid(z3)\n",
    "    print(\"a3\", a3.shape)\n",
    "    y_ = np.zeros(a3.shape)\n",
    "    print(\"New y \", y_.shape)\n",
    "    print(y_[1:10])\n",
    "    for i in range(m):\n",
    "        y_[i,y[i]%10] = 1    \n",
    "    print(\"New y \", y_.shape)\n",
    "    print(y_[1:10])\n",
    "    d3 = a3 - y_\n",
    "    d2 = np.dot(d3,theta2) * sigmoidGradient(np.c_[np.ones((z2.shape[0],1)),z2])\n",
    "    d2 = d2[:,1:]\n",
    "    \n",
    "    delta1 = np.dot(d2.T,a1)\n",
    "    delta2 = np.dot(d3.T,a2)\n",
    "    \n",
    "    grad1 = delta1/m\n",
    "    grad2 = delta2/m\n",
    "    grad = np.c_[grad1.reshape(1,grad1.size),grad2.reshape(1,grad2.size)].T\n",
    "    \n",
    "    print(\"grad \", grad.shape)\n",
    "    return grad\n",
    "\n",
    "compute_gradient_reg(theta1, theta2, X, Y)"
   ]
  },
  {
   "cell_type": "code",
   "execution_count": null,
   "metadata": {},
   "outputs": [],
   "source": [
    "aa = np.zeros((3,3))\n",
    "aa[:,0] = 1\n",
    "aa"
   ]
  },
  {
   "cell_type": "code",
   "execution_count": null,
   "metadata": {},
   "outputs": [],
   "source": [
    "def compute_cost_reg(theta1, theta2, X, y, parametroLambda):\n",
    "    m = X.shape[0]\n",
    "    a1 = np.c_[np.ones((m,1)),X]\n",
    "    \n",
    "    z2 = np.dot(a1,theta1.T)\n",
    "    a2 = np.c_[np.ones((z2.shape[0],1)),sigmoid(z2)]\n",
    "    \n",
    "    z3 = np.dot(a2,theta2.T)\n",
    "    a3 = sigmoid(z3)\n",
    "    \n",
    "    y_ = np.zeros(a3.shape)\n",
    "    for i in range(m):\n",
    "        y_[i,y[i]%10] = 1\n",
    "    \n",
    "    h = a3\n",
    "    reg = np.sum(np.power(theta1[:,1:],2))+np.sum(np.power(theta2[:,1:],2))\n",
    "    J = (-np.sum(y_ * np.log(h)) - np.sum((1-y_)* np.log(1-h)) + parametroLambda*reg/2)/m\n",
    "    \n",
    "    return J\n",
    "     "
   ]
  },
  {
   "cell_type": "code",
   "execution_count": null,
   "metadata": {},
   "outputs": [],
   "source": [
    "grad = compute_gradient_reg(theta1,theta2,X,Y)\n",
    "# grad = np.c_[np.ones((grad.shape[0],1)), grad]\n",
    "print( grad.shape )\n",
    "print( grad[10020:10030])"
   ]
  },
  {
   "cell_type": "code",
   "execution_count": null,
   "metadata": {},
   "outputs": [],
   "source": [
    "getPresicion(forward(X,theta1,theta2),Y)"
   ]
  },
  {
   "cell_type": "code",
   "execution_count": null,
   "metadata": {},
   "outputs": [],
   "source": [
    "# Y = Y.ravel()\n",
    "# print(Y.shape)"
   ]
  },
  {
   "cell_type": "code",
   "execution_count": null,
   "metadata": {},
   "outputs": [],
   "source": [
    "clf = SVC(C=1.0, cache_size=200, class_weight=None, coef0=0.0,\n",
    "    decision_function_shape='ovr', degree=3, gamma='auto', kernel='rbf',\n",
    "    max_iter=-1, probability=False, random_state=None, shrinking=True,\n",
    "    tol=0.001, verbose=False).fit(X,Y)"
   ]
  },
  {
   "cell_type": "code",
   "execution_count": null,
   "metadata": {},
   "outputs": [],
   "source": [
    "clf.score(X, Y)"
   ]
  },
  {
   "cell_type": "code",
   "execution_count": null,
   "metadata": {},
   "outputs": [],
   "source": [
    "clf = SVC(C=1.0, cache_size=200, class_weight=None, coef0=0.0,\n",
    "    decision_function_shape='ovr', degree=3, gamma=0.1, kernel='rbf',\n",
    "    max_iter=-1, probability=False, random_state=None, shrinking=True,\n",
    "    tol=0.001, verbose=False).fit(X,Y)\n",
    "clf.score(X, Y)"
   ]
  },
  {
   "cell_type": "code",
   "execution_count": null,
   "metadata": {},
   "outputs": [],
   "source": [
    "clf = SVC(C=1.0, cache_size=200, class_weight=None, coef0=0.0,\n",
    "    decision_function_shape='ovr', degree=3, gamma=0.3, kernel='rbf',\n",
    "    max_iter=-1, probability=False, random_state=None, shrinking=True,\n",
    "    tol=0.001, verbose=False).fit(X,Y)\n",
    "clf.score(X, Y)"
   ]
  },
  {
   "cell_type": "code",
   "execution_count": null,
   "metadata": {},
   "outputs": [],
   "source": [
    "clf = SVC(C=1.0, cache_size=200, class_weight=None, coef0=0.0,\n",
    "    decision_function_shape='ovr', degree=3, gamma=0.7, kernel='rbf',\n",
    "    max_iter=-1, probability=False, random_state=None, shrinking=True,\n",
    "    tol=0.001, verbose=False).fit(X,Y)\n",
    "clf.score(X, Y)"
   ]
  },
  {
   "cell_type": "code",
   "execution_count": null,
   "metadata": {},
   "outputs": [],
   "source": [
    "from sklearn import svm\n",
    "from sklearn.cluster import KMeans\n",
    "kmeans = KMeans(n_clusters=10, random_state=0).fit(X)\n",
    "labels = kmeans.labels_"
   ]
  },
  {
   "cell_type": "code",
   "execution_count": null,
   "metadata": {},
   "outputs": [],
   "source": [
    "kmeans = KMeans(n_clusters=10, n_init=20,init='k-means++').fit(X)\n",
    "res=kmeans.predict(X)\n",
    "struct =OrderedDict()\n",
    "j=0\n",
    "for i in range(10):\n",
    "    acu_1 =0; acu_2 =0; acu_3 =0; acu_4 =0; acu_5 =0; acu_6 =0 ;acu_7 =0; acu_8 =0; acu_9 =0; acu_10 =0\n",
    "    for i in range(500):\n",
    "        if (res[j]==1): acu_1 +=1\n",
    "        if (res[j]==2): acu_2 +=1\n",
    "        if (res[j]==3): acu_3 +=1\n",
    "        if (res[j]==4): acu_4 +=1\n",
    "        if (res[j]==5): acu_5 +=1\n",
    "        if (res[j]==6): acu_6 +=1\n",
    "        if (res[j]==7): acu_7 +=1\n",
    "        if (res[j]==8): acu_8 +=1\n",
    "        if (res[j]==9): acu_9 +=1\n",
    "        if (res[j]==0): acu_10 +=1\n",
    "        j +=1\n",
    "        \n",
    "    struct[1]=acu_1; struct[2]=acu_2; struct[3]=acu_3; struct[4]=acu_4; struct[5]=acu_5\n",
    "    struct[6]=acu_6; struct[7]=acu_7; struct[8]=acu_8; struct[9]=acu_9; struct[0]=acu_10"
   ]
  },
  {
   "cell_type": "code",
   "execution_count": null,
   "metadata": {},
   "outputs": [],
   "source": [
    "from collections import OrderedDict\n",
    "    d_sorted_by_value = OrderedDict(sorted(struct.items(), key=lambda x: x[1]))\n",
    "          \n",
    "    els = list(d_sorted_by_value.items())\n",
    "    print ('Kmean label :',els[-1][0], ' True label: ',y[0][j-1], ', Total:',els[-1][1])"
   ]
  }
 ],
 "metadata": {
  "kernelspec": {
   "display_name": "Python 3",
   "language": "python",
   "name": "python3"
  },
  "language_info": {
   "codemirror_mode": {
    "name": "ipython",
    "version": 3
   },
   "file_extension": ".py",
   "mimetype": "text/x-python",
   "name": "python",
   "nbconvert_exporter": "python",
   "pygments_lexer": "ipython3",
   "version": "3.6.3"
  }
 },
 "nbformat": 4,
 "nbformat_minor": 2
}
